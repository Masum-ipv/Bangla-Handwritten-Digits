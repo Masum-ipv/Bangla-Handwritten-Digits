{
  "nbformat": 4,
  "nbformat_minor": 0,
  "metadata": {
    "colab": {
      "name": "cnn.ipynb",
      "version": "0.3.2",
      "provenance": [],
      "collapsed_sections": [],
      "include_colab_link": true
    }
  },
  "cells": [
    {
      "cell_type": "markdown",
      "metadata": {
        "id": "view-in-github",
        "colab_type": "text"
      },
      "source": [
        "[View in Colaboratory](https://colab.research.google.com/github/Masum-ipv/Convolutional-Neural-Network/blob/develop/cnn.ipynb)"
      ]
    },
    {
      "metadata": {
        "id": "4z5WmXkuXLLD",
        "colab_type": "code",
        "colab": {}
      },
      "cell_type": "code",
      "source": [
        "import tensorflow as tf\n",
        "import numpy as np\n",
        "import matplotlib.pyplot as plt\n",
        "import time, os\n",
        "from scipy import misc\n",
        "import matplotlib.image as mpimg"
      ],
      "execution_count": 0,
      "outputs": []
    },
    {
      "metadata": {
        "id": "FSzy2VLxr-jS",
        "colab_type": "text"
      },
      "cell_type": "markdown",
      "source": [
        "Download Image"
      ]
    },
    {
      "metadata": {
        "id": "i1hOoxPzD_r8",
        "colab_type": "code",
        "colab": {}
      },
      "cell_type": "code",
      "source": [
        "!git clone https://github.com/mehamasum/digits.git"
      ],
      "execution_count": 0,
      "outputs": []
    },
    {
      "metadata": {
        "id": "6Z4AyAPesGOK",
        "colab_type": "text"
      },
      "cell_type": "markdown",
      "source": [
        "Method declaration"
      ]
    },
    {
      "metadata": {
        "id": "f-VKYQi_GWp2",
        "colab_type": "code",
        "colab": {}
      },
      "cell_type": "code",
      "source": [
        "def show_image(directory):\n",
        "  img = misc.imread(directory)\n",
        "  print img.shape \n",
        "  fig = plt.figure()\n",
        "  plt.imshow(img)\n",
        "  plt.show()\n",
        "  \n",
        "  \n",
        "\n",
        "def load_images(folder):\n",
        "    images = []\n",
        "    for filename in os.listdir(folder):\n",
        "        img = mpimg.imread(os.path.join(folder, filename))\n",
        "        if img is not None:\n",
        "            images.append(img)\n",
        "    return images\n",
        "  \n",
        "  \n",
        "  \n",
        "def new_conv_layer(input, num_input_channels, filter_size, num_filters, name):\n",
        "    \n",
        "    with tf.variable_scope(name) as scope:\n",
        "        # Shape of the filter-weights for the convolution\n",
        "        shape = [filter_size, filter_size, num_input_channels, num_filters]\n",
        "\n",
        "        # Create new weights (filters) with the given shape\n",
        "        weights = tf.Variable(tf.truncated_normal(shape, stddev=0.05))\n",
        "\n",
        "        # Create new biases, one for each filter\n",
        "        biases = tf.Variable(tf.constant(0.05, shape=[num_filters]))\n",
        "\n",
        "        # TensorFlow operation for convolution\n",
        "        layer = tf.nn.conv2d(input=input, filter=weights, strides=[1, 1, 1, 1], padding='SAME')\n",
        "\n",
        "        # Add the biases to the results of the convolution.\n",
        "        layer += biases\n",
        "        \n",
        "        return layer, weights\n",
        "      \n",
        "      \n",
        "def new_pool_layer(input, name):\n",
        "    \n",
        "    with tf.variable_scope(name) as scope:\n",
        "        # TensorFlow operation for convolution\n",
        "        layer = tf.nn.max_pool(value=input, ksize=[1, 2, 2, 1], strides=[1, 2, 2, 1], padding='SAME')\n",
        "        \n",
        "        return layer\n",
        "      \n",
        "      \n",
        "      \n",
        "def new_relu_layer(input, name):\n",
        "    \n",
        "    with tf.variable_scope(name) as scope:\n",
        "        # TensorFlow operation for convolution\n",
        "        layer = tf.nn.relu(input)\n",
        "        \n",
        "        return layer\n",
        "\n",
        "      \n",
        "      \n",
        "\n",
        "def new_fc_layer(input, num_inputs, num_outputs, name):\n",
        "    \n",
        "    with tf.variable_scope(name) as scope:\n",
        "\n",
        "        # Create new weights and biases.\n",
        "        weights = tf.Variable(tf.truncated_normal([num_inputs, num_outputs], stddev=0.05))\n",
        "        biases = tf.Variable(tf.constant(0.05, shape=[num_outputs]))\n",
        "        \n",
        "        # Multiply the input and weights, and then add the bias-values.\n",
        "        layer = tf.matmul(input, weights) + biases\n",
        "        \n",
        "        return layer\n",
        "\n"
      ],
      "execution_count": 0,
      "outputs": []
    },
    {
      "metadata": {
        "id": "QgHIbW7IsCTT",
        "colab_type": "text"
      },
      "cell_type": "markdown",
      "source": [
        "Variable declaration\n",
        "\n",
        "1. First we define the placeholder variable for the input images. This allows us to change the images that are input to the TensorFlow graph. This is a so-called tensor, which just means that it is a multi-dimensional vector or matrix. The data-type is set to float32 and the shape is set to [None, img_size_flat], where None means that the tensor may hold an arbitrary number of images with each image being a vector of length img_size_flat.\n",
        "\n",
        "\n",
        "2. The convolutional layers expect x to be encoded as a 4-dim tensor so we have to reshape it so its shape is instead [num_images, img_height, img_width, num_channels]. Note that img_height == img_width == img_size and num_images can be inferred automatically by using -1 for the size of the first dimension. So the reshape operation is:\n",
        "\n",
        "\n",
        "\n",
        "\n",
        "3. Next we have the placeholder variable for the true labels associated with the images that were input in the placeholder variable x. The shape of this placeholder variable is [None, num_classes] which means it may hold an arbitrary number of labels and each label is a vector of length num_classes which is 10 in this case.\n",
        "\n",
        "\n",
        "4. We could also have a placeholder variable for the class-number, but we will instead calculate it using argmax. Note that this is a TensorFlow operator so nothing is calculated at this point.\n"
      ]
    },
    {
      "metadata": {
        "id": "Q5YPgMo2rhX2",
        "colab_type": "code",
        "colab": {}
      },
      "cell_type": "code",
      "source": [
        "path = \"digits/bn/\"\n",
        "train_data = load_images(path)\n",
        "\n",
        "# Placeholder variable for the input images\n",
        "x = tf.placeholder(tf.float32, shape=[None, 100*100*3], name='X')\n",
        "\n",
        "# Reshape it into [num_images, img_height, img_width, num_channels]\n",
        "x_image = tf.reshape(x, [-1, 100, 100, 3])\n",
        "\n",
        "# Placeholder variable for the true labels associated with the images\n",
        "y_true = tf.placeholder(tf.float32, shape=[None, 10], name='y_true')\n",
        "y_true_cls = tf.argmax(y_true, dimension=1)\n",
        "\n"
      ],
      "execution_count": 0,
      "outputs": []
    },
    {
      "metadata": {
        "id": "V3l5IOc9sJ0r",
        "colab_type": "text"
      },
      "cell_type": "markdown",
      "source": [
        "Main Method"
      ]
    },
    {
      "metadata": {
        "id": "Ri5G94d0i43f",
        "colab_type": "code",
        "colab": {}
      },
      "cell_type": "code",
      "source": [
        "train_data = load_images(path)\n",
        "print (train_data[0].size)\n",
        "\n",
        "\n",
        "        "
      ],
      "execution_count": 0,
      "outputs": []
    },
    {
      "metadata": {
        "id": "p3sJskM_XYDS",
        "colab_type": "code",
        "colab": {}
      },
      "cell_type": "code",
      "source": [
        ""
      ],
      "execution_count": 0,
      "outputs": []
    },
    {
      "metadata": {
        "id": "gL_72Bdai5T_",
        "colab_type": "code",
        "colab": {}
      },
      "cell_type": "code",
      "source": [
        ""
      ],
      "execution_count": 0,
      "outputs": []
    }
  ]
}